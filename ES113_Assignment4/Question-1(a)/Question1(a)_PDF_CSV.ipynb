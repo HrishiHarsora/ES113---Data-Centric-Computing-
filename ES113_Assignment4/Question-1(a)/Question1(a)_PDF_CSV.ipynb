{
  "nbformat": 4,
  "nbformat_minor": 0,
  "metadata": {
    "colab": {
      "provenance": []
    },
    "kernelspec": {
      "name": "python3",
      "display_name": "Python 3"
    },
    "language_info": {
      "name": "python"
    }
  },
  "cells": [
    {
      "cell_type": "code",
      "execution_count": 25,
      "metadata": {
        "id": "R-HDy3t2hN-g",
        "colab": {
          "base_uri": "https://localhost:8080/"
        },
        "outputId": "bcdb86b5-9399-4473-8a73-12a9e0debf55"
      },
      "outputs": [
        {
          "output_type": "stream",
          "name": "stdout",
          "text": [
            "Requirement already satisfied: pymupdf in /usr/local/lib/python3.10/dist-packages (1.24.1)\n",
            "Requirement already satisfied: PyMuPDFb==1.24.1 in /usr/local/lib/python3.10/dist-packages (from pymupdf) (1.24.1)\n"
          ]
        }
      ],
      "source": [
        "#Installing pymupdf in colab enviromnent\n",
        "!pip install pymupdf"
      ]
    },
    {
      "cell_type": "code",
      "source": [
        "#Importing relevant libraries from pymupdf package\n",
        "import fitz\n",
        "import pandas\n",
        "import csv\n",
        "import pandas as pd"
      ],
      "metadata": {
        "id": "ouyZxyUGo83V"
      },
      "execution_count": 26,
      "outputs": []
    },
    {
      "cell_type": "code",
      "source": [
        "#Opening the EB_Purchase_details PDF file\n",
        "doc1 = fitz.open(\"EB_Purchase _details.pdf\")\n",
        "\n",
        "#Check\n",
        "print(len(doc1))\n",
        "\n",
        "#Reading tables and storing all obtained information in a dataframe and appendin the dataframe to a list to concatenate later\n",
        "List_of_dataframes_1 = []\n",
        "L = []\n",
        "for i in range(len(doc1)):\n",
        "  page1 = doc1[i]\n",
        "  tabs1 = page1.find_tables()\n",
        "  tab1 = tabs1[0]\n",
        "  df1 = tab1.to_pandas()\n",
        "  List_of_dataframes_1.append(df1)\n",
        "  #print(i) #For checking each time\n",
        "print(\"Done!\")\n",
        "\n"
      ],
      "metadata": {
        "id": "n29ktA7Mq-Hj",
        "colab": {
          "base_uri": "https://localhost:8080/"
        },
        "outputId": "44be0eb4-c0b7-417a-c729-5da8dadd5015"
      },
      "execution_count": 27,
      "outputs": [
        {
          "output_type": "stream",
          "name": "stdout",
          "text": [
            "386\n",
            "Done!\n"
          ]
        }
      ]
    },
    {
      "cell_type": "code",
      "source": [
        "#Preprocessing\n",
        "\n",
        "#joining all dataframes to get one giant dataframe containing all the data\n",
        "result1 = pd.concat(List_of_dataframes_1)\n",
        "\n",
        "\n",
        "#Naming correctly\n",
        "result1.rename(columns={'Date of\\nPurchase':\"Date of Purchase\"},inplace=True)\n",
        "result1.rename(columns={'Bond\\nNumber':\"Bond Number\"},inplace=True)\n",
        "\n",
        "\n",
        "#Tweaking to correct datatypes\n",
        "result1['Journal Date'] = pd.to_datetime(result1['Journal Date'], format='%d/%b/%Y')\n",
        "result1['Date of Purchase'] = pd.to_datetime(result1['Date of Purchase'], format='%d/%b/%Y')\n",
        "result1['Date of Expiry'] = pd.to_datetime(result1['Date of Expiry'], format='%d/%b/%Y')\n",
        "result1['Bond Number'] = result1['Bond Number'].astype(int)\n",
        "result1['Denominations'] = result1['Denominations'].str.replace(',','').astype(int)\n",
        "result1['Issuue Branch Code'] = result1['Issue Branch Code'].astype(int)\n",
        "result1['Issue Teller'] = result1['Issue Teller'].astype(int)\n",
        "\n",
        "#Checking\n",
        "print(result1.dtypes)\n",
        "\n",
        "#Converting to CSV\n",
        "\n",
        "result1.to_csv('EB_Purchase_Details',mode='a')\n"
      ],
      "metadata": {
        "colab": {
          "base_uri": "https://localhost:8080/"
        },
        "id": "9jYVDZcSUz8f",
        "outputId": "8c3203be-8e00-480b-87c3-2e2ca8be6119"
      },
      "execution_count": 48,
      "outputs": [
        {
          "output_type": "stream",
          "name": "stdout",
          "text": [
            "Sr No.                           object\n",
            "Reference No (URN)               object\n",
            "Journal Date             datetime64[ns]\n",
            "Date of Purchase         datetime64[ns]\n",
            "Date of Expiry           datetime64[ns]\n",
            "Name of the Purchaser            object\n",
            "Prefix                           object\n",
            "Bond Number                       int64\n",
            "Denominations                     int64\n",
            "Issue Branch Code                object\n",
            "Issue Teller                      int64\n",
            "Status                           object\n",
            "Issuue Branch Code                int64\n",
            "dtype: object\n"
          ]
        }
      ]
    },
    {
      "cell_type": "code",
      "source": [
        "#Opening the EB_Redemption_details PDF file\n",
        "doc2 = fitz.open(\"EB_Redemption_details.pdf\")\n",
        "\n",
        "#Check\n",
        "print(len(doc2))\n",
        "\n",
        "#Reading tables and storing all obtained information in a CSV file\n",
        "#Making dataframes for each table and appending them to the csv file EB1\n",
        "L2 = []\n",
        "List_of_Dataframes_2=[]\n",
        "for j in range(len(doc2)):\n",
        "  page2 = doc2[i]\n",
        "  tabs2 = page2.find_tables()\n",
        "  tab2 = tabs2[0]\n",
        "  df2 = tab2.to_pandas()\n",
        "  List_of_Dataframes_2.append(df2)\n",
        "  #print(j) #For checking each time\n",
        "\n",
        "print(\"Done!\")\n",
        "\n"
      ],
      "metadata": {
        "colab": {
          "base_uri": "https://localhost:8080/"
        },
        "id": "0kyzjLSLAhwA",
        "outputId": "68ce63e7-43e2-4a8d-f02a-2d708a442e1a"
      },
      "execution_count": 44,
      "outputs": [
        {
          "output_type": "stream",
          "name": "stdout",
          "text": [
            "552\n",
            "Done!\n"
          ]
        }
      ]
    },
    {
      "cell_type": "code",
      "source": [
        "#Preprocessing\n",
        "\n",
        "#joining all dataframes to get one giant dataframe containing all the data\n",
        "result2 = pd.concat(List_of_Dataframes_2)\n",
        "#Naming correctly\n",
        "result2.rename(columns={'Date of\\nEncashment':\"Date of Encashment\"},inplace=True)\n",
        "result2.rename(columns={'Account no. of\\nPolitical Party': \"Account no. of Political Party\"},inplace=True)\n",
        "result2.rename(columns={'Bond\\nNumber':\"Bond Number\"},inplace=True)\n",
        "result2.rename(columns={'Pay Branch\\nCode':\"Pay Branch Code\"},inplace=True)\n",
        "\n",
        "\n",
        "\n",
        "#Tweaking to correct datatypes\n",
        "result2['Date of Encashment'] = pd.to_datetime(result2['Date of Encashment'], format='%d/%b/%Y')\n",
        "result2['Bond Number'] = result2['Bond Number'].astype(int)\n",
        "result2['Denominations'] = result2['Denominations'].str.replace(',','').astype(int)\n",
        "result2['Pay Branch Code'] = result2['Pay Branch Code'].str.replace(',','').astype(int)\n",
        "result2['Pay Teller'] = result2['Pay Teller'].astype(int)\n",
        "\n",
        "#Checking\n",
        "print(result2.dtypes)\n",
        "\n",
        "#Converting to CSV\n",
        "\n",
        "result2.to_csv('EB_Redemption_Details',mode='a')\n",
        "\n"
      ],
      "metadata": {
        "colab": {
          "base_uri": "https://localhost:8080/"
        },
        "id": "0d9QZq5BbmPr",
        "outputId": "65df835b-6957-42a5-e386-a356b0af75a1"
      },
      "execution_count": 49,
      "outputs": [
        {
          "output_type": "stream",
          "name": "stdout",
          "text": [
            "Sr No.                                    object\n",
            "Date of Encashment                datetime64[ns]\n",
            "Name of the Political Party               object\n",
            "Account no. of Political Party            object\n",
            "Prefix                                    object\n",
            "Bond Number                                int64\n",
            "Denominations                              int64\n",
            "Pay Branch Code                            int64\n",
            "Pay Teller                                 int64\n",
            "dtype: object\n"
          ]
        }
      ]
    }
  ]
}