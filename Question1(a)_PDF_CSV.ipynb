{
  "nbformat": 4,
  "nbformat_minor": 0,
  "metadata": {
    "colab": {
      "provenance": [],
      "authorship_tag": "ABX9TyPFtWGj8kiy0Mf+Ny3Lvk52",
      "include_colab_link": true
    },
    "kernelspec": {
      "name": "python3",
      "display_name": "Python 3"
    },
    "language_info": {
      "name": "python"
    }
  },
  "cells": [
    {
      "cell_type": "markdown",
      "metadata": {
        "id": "view-in-github",
        "colab_type": "text"
      },
      "source": [
        "<a href=\"https://colab.research.google.com/github/HrishiHarsora/ES113---Data-Centric-Computing-/blob/main/Question1(a)_PDF_CSV.ipynb\" target=\"_parent\"><img src=\"https://colab.research.google.com/assets/colab-badge.svg\" alt=\"Open In Colab\"/></a>"
      ]
    },
    {
      "cell_type": "code",
      "execution_count": null,
      "metadata": {
        "id": "R-HDy3t2hN-g",
        "colab": {
          "base_uri": "https://localhost:8080/"
        },
        "outputId": "fc84159b-aa4d-4450-c49b-76966ecdb26d"
      },
      "outputs": [
        {
          "output_type": "stream",
          "name": "stdout",
          "text": [
            "Requirement already satisfied: pymupdf in /usr/local/lib/python3.10/dist-packages (1.24.1)\n",
            "Requirement already satisfied: PyMuPDFb==1.24.1 in /usr/local/lib/python3.10/dist-packages (from pymupdf) (1.24.1)\n"
          ]
        }
      ],
      "source": [
        "#Installing pymupdf in colab enviromnent\n",
        "!pip install pymupdf"
      ]
    },
    {
      "cell_type": "code",
      "source": [
        "#Importing relevant libraries from pymupdf package\n",
        "import fitz\n",
        "import pandas\n",
        "import csv"
      ],
      "metadata": {
        "id": "ouyZxyUGo83V"
      },
      "execution_count": null,
      "outputs": []
    },
    {
      "cell_type": "code",
      "source": [
        "#Opening the EB_Purchase_details PDF file\n",
        "doc1 = fitz.open(\"EB_Purchase _details.pdf\")\n",
        "\n",
        "#Check\n",
        "print(len(doc1))\n",
        "\n",
        "print()\n",
        "#Reading tables and storing all obtained information in a CSV file\n",
        "#Making dataframes for each table and appending them to the csv file EB1\n",
        "L = []\n",
        "for i in range(len(doc1)):\n",
        "  page1 = doc1[i]\n",
        "  tabs1 = page1.find_tables()\n",
        "  tab1 = tabs1[0]\n",
        "  df1 = tab1.to_pandas()\n",
        "  df1.to_csv('EB1.csv', mode='a', header=False, index=False)\n",
        "  #print(i) #For checking each time\n",
        "print(\"Done!\")\n",
        "\n"
      ],
      "metadata": {
        "id": "n29ktA7Mq-Hj",
        "colab": {
          "base_uri": "https://localhost:8080/"
        },
        "outputId": "8e2286d5-d7f2-4fcb-91fa-0e38e47d21b1"
      },
      "execution_count": null,
      "outputs": [
        {
          "output_type": "stream",
          "name": "stdout",
          "text": [
            "386\n",
            "\n",
            "Done!\n"
          ]
        }
      ]
    },
    {
      "cell_type": "code",
      "source": [
        "#Opening the EB_Redemption_details PDF file\n",
        "doc2 = fitz.open(\"EB_Redemption_details.pdf\")\n",
        "\n",
        "#Check\n",
        "print(len(doc2))\n",
        "\n",
        "#Reading tables and storing all obtained information in a CSV file\n",
        "#Making dataframes for each table and appending them to the csv file EB1\n",
        "L2 = []\n",
        "for j in range(len(doc2)):\n",
        "  page2 = doc2[i]\n",
        "  tabs2 = page2.find_tables()\n",
        "  tab2 = tabs2[0]\n",
        "  df2 = tab2.to_pandas()\n",
        "  df2.to_csv('EB2.csv', mode='a', header=False, index=False)\n",
        "  #print(j) #For checking each time\n",
        "\n",
        "print(\"Done!\")\n",
        "\n"
      ],
      "metadata": {
        "colab": {
          "base_uri": "https://localhost:8080/"
        },
        "id": "0kyzjLSLAhwA",
        "outputId": "57b53015-8fd3-445e-ac04-2bcded0b172e"
      },
      "execution_count": null,
      "outputs": [
        {
          "output_type": "stream",
          "name": "stdout",
          "text": [
            "552\n",
            "Done!\n"
          ]
        }
      ]
    }
  ]
}